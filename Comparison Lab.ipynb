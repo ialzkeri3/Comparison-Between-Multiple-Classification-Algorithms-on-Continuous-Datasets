{
 "cells": [
  {
   "cell_type": "markdown",
   "metadata": {},
   "source": [
    "# ICS 485 Project\n",
    "\n",
    "This is our work for ICS 485 (Machine Learning) course\n",
    "\n",
    "The project demostrates supervised Machine Learning techniques on popular datasets.\n",
    "\n",
    "We used the following algorithms:\n",
    "   - Naive Bayes (from scratch)\n",
    "   - K Nearest Neighbors (from scratch)\n",
    "   - Support Vector Machines with kernels (SKlearn)\n",
    "   - Boosting ensembles (Adaboost) (SKlearn)\n",
    "   - Linear Discriminant Analysis (SKlearn)\n",
    "\n",
    "The algortihms above are used on the following datasets:\n",
    "   - Iris flowers dataset\n",
    "   - Wine dataset\n",
    "   - Diabetes dataset"
   ]
  },
  {
   "cell_type": "code",
   "execution_count": 1,
   "metadata": {},
   "outputs": [],
   "source": [
    "import numpy as np\n",
    "import pandas as pd\n",
    "import time\n",
    "\n",
    "np.random.seed(15)"
   ]
  },
  {
   "cell_type": "markdown",
   "metadata": {},
   "source": [
    "## Naive Bayes Implementation"
   ]
  },
  {
   "cell_type": "code",
   "execution_count": 2,
   "metadata": {},
   "outputs": [],
   "source": [
    "from scipy.stats import norm\n",
    "def NaiveBayes(X_train,y_train,X_test):\n",
    "    '''\n",
    "    our implementation of naive bayes.\n",
    "    works for both multi class and binary classification.\n",
    "    input:\n",
    "        X_train: training data.\n",
    "        Y_train: training labels.\n",
    "        X_test: testing data.\n",
    "    \n",
    "    output:\n",
    "        y_pred: predicted testing labels.\n",
    "    '''\n",
    "    #compute the means and standard deviatons\n",
    "    means = X_train.groupby(y_train).apply(np.mean)\n",
    "    stds = X_train.groupby(y_train).apply(np.std)\n",
    "    #compute the probabilities of the training set\n",
    "    probs = X_train.groupby(y_train).apply(lambda x: len(x)) / X_train.shape[0]\n",
    "    y_pred = []\n",
    "    for elm in range(X_test.shape[0]):\n",
    "        p = {}\n",
    "    \n",
    "        for cl in np.unique(y_train):\n",
    "            p[cl] = probs.iloc[cl]\n",
    "        \n",
    "            for index, param in enumerate(X_test.iloc[elm]):\n",
    "                #compute the probabilities of each row in the testing set\n",
    "                p[cl] *= norm.pdf(param,means.iloc[cl,index],stds.iloc[cl,index])\n",
    "        y_pred.append(pd.Series(p).values.argmax())\n",
    "    return y_pred"
   ]
  },
  {
   "cell_type": "markdown",
   "metadata": {},
   "source": [
    "## K Nearest Neighbors Implementation"
   ]
  },
  {
   "cell_type": "code",
   "execution_count": 3,
   "metadata": {},
   "outputs": [],
   "source": [
    "from math import sqrt\n",
    "\n",
    "def KNN(train,test,num_neighbors):\n",
    "    '''\n",
    "    our implementation of kNN.\n",
    "    input:\n",
    "        train: training data.\n",
    "        test: testing data.\n",
    "        \n",
    "        both of the training and testing data\n",
    "        have the labels included with them\n",
    "        so, no need for X_train, y_train..etc\n",
    "    output:\n",
    "        y_pred: predicted testing labels.\n",
    "    '''\n",
    "    y_pred = []\n",
    "    for i in range(len(test)):\n",
    "        neighbors = get_neighbors(train, test[i], 3)\n",
    "        output_values = [row[-1] for row in neighbors]\n",
    "        y_pred.append(max(set(output_values), key=output_values.count))\n",
    "    return y_pred\n",
    "\n",
    "# calculate the Euclidean distance between two vectors\n",
    "def euclidean_distance(row1, row2):\n",
    "    distance = 0.0\n",
    "    for i in range(len(row1)-1):\n",
    "        distance += (row1[i] - row2[i])**2\n",
    "    return sqrt(distance)\n",
    "# Locate the most similar neighbors\n",
    "def get_neighbors(train, test_row, num_neighbors):\n",
    "    distances = list()\n",
    "    for train_row in train:\n",
    "        dist = euclidean_distance(test_row, train_row)\n",
    "        distances.append((train_row, dist))\n",
    "    distances.sort(key=lambda tup: tup[1])\n",
    "    neighbors = list()\n",
    "    for i in range(num_neighbors):\n",
    "        neighbors.append(distances[i][0])\n",
    "    return neighbors"
   ]
  },
  {
   "cell_type": "markdown",
   "metadata": {},
   "source": [
    "## Iris Dataset"
   ]
  },
  {
   "cell_type": "code",
   "execution_count": 4,
   "metadata": {},
   "outputs": [
    {
     "name": "stdout",
     "output_type": "stream",
     "text": [
      "Training set has 120 samples.\n",
      "Testing set has 30 samples.\n"
     ]
    }
   ],
   "source": [
    "# read the data set, split into x (features) and y (labels)\n",
    "dataset = pd.read_csv('iris.csv',names=['sepal length (cm)','sepal width (cm)',\n",
    "                                         'petal length (cm)','petal width (cm)','flower type'],)\n",
    "x = dataset.drop(columns='flower type')\n",
    "y = dataset.drop(columns=['sepal length (cm)','sepal width (cm)',\n",
    "                                         'petal length (cm)','petal width (cm)'])\n",
    "#standardize the features\n",
    "x = (x - np.mean(x))/np.std(x)\n",
    "#encode the categorical targets\n",
    "targets = {\"flower type\": {\"Iris-setosa\":0,\"Iris-versicolor\":1,\"Iris-virginica\":2}}\n",
    "y = y.replace(targets)\n",
    "y = np.array(y)\n",
    "#remove the extra dimesion\n",
    "y = np.squeeze(y)\n",
    "\n",
    "from sklearn.model_selection import train_test_split\n",
    "\n",
    "# Split the 'features' and 'income' data into training and testing sets\n",
    "X_train, X_test, y_train, y_test = train_test_split(x, \n",
    "                                                    y, \n",
    "                                                    test_size = 0.20)\n",
    "# Show the results of the split\n",
    "print(\"Training set has {} samples.\".format(X_train.shape[0]))\n",
    "print(\"Testing set has {} samples.\".format(X_test.shape[0]))"
   ]
  },
  {
   "cell_type": "code",
   "execution_count": 5,
   "metadata": {},
   "outputs": [],
   "source": [
    "# create arraays to store various metrics\n",
    "from sklearn.metrics import accuracy_score,precision_score,recall_score,fbeta_score\n",
    "\n",
    "x_axis = ['NB','KNN','SVM','Adaboost','LDA']\n",
    "iris_acc = []\n",
    "iris_pre = []\n",
    "iris_rec = []\n",
    "iris_fbeta = []"
   ]
  },
  {
   "cell_type": "markdown",
   "metadata": {},
   "source": [
    "### NB on Iris"
   ]
  },
  {
   "cell_type": "code",
   "execution_count": 6,
   "metadata": {},
   "outputs": [
    {
     "name": "stdout",
     "output_type": "stream",
     "text": [
      "              precision    recall  f1-score   support\n",
      "\n",
      "           0       1.00      1.00      1.00         8\n",
      "           1       1.00      1.00      1.00        13\n",
      "           2       1.00      1.00      1.00         9\n",
      "\n",
      "    accuracy                           1.00        30\n",
      "   macro avg       1.00      1.00      1.00        30\n",
      "weighted avg       1.00      1.00      1.00        30\n",
      "\n"
     ]
    }
   ],
   "source": [
    "from sklearn.metrics import classification_report\n",
    "NB_iris_pred = NaiveBayes(X_train,y_train,X_test)\n",
    "# store metrics\n",
    "iris_acc.append(accuracy_score(y_test,NB_iris_pred))\n",
    "iris_pre.append(precision_score(y_test,NB_iris_pred,average='weighted'))\n",
    "iris_rec.append(recall_score(y_test,NB_iris_pred,average='weighted'))\n",
    "iris_fbeta.append(fbeta_score(y_test,NB_iris_pred,beta = 0.3,average='weighted'))\n",
    "NB_report = classification_report(y_test,NB_iris_pred)\n",
    "print(NB_report)"
   ]
  },
  {
   "cell_type": "markdown",
   "metadata": {},
   "source": [
    "### KNN on Iris\n",
    "Note: we had to adjust the data set to include the data and the targets concatenated after modifying the instances"
   ]
  },
  {
   "cell_type": "code",
   "execution_count": 7,
   "metadata": {},
   "outputs": [
    {
     "name": "stdout",
     "output_type": "stream",
     "text": [
      "              precision    recall  f1-score   support\n",
      "\n",
      "           0       1.00      1.00      1.00         8\n",
      "           1       0.91      0.83      0.87        12\n",
      "           2       0.85      0.92      0.88        12\n",
      "\n",
      "    accuracy                           0.91        32\n",
      "   macro avg       0.92      0.92      0.92        32\n",
      "weighted avg       0.91      0.91      0.91        32\n",
      "\n"
     ]
    }
   ],
   "source": [
    "# read the data set, split into x (features) and y (labels)\n",
    "dataset = pd.read_csv('iris.csv',names=['sepal length (cm)','sepal width (cm)',\n",
    "                                         'petal length (cm)','petal width (cm)','flower type'],)\n",
    "x = dataset.drop(columns='flower type')\n",
    "y = dataset.drop(columns=['sepal length (cm)','sepal width (cm)',\n",
    "                                         'petal length (cm)','petal width (cm)'])\n",
    "#standardize the features\n",
    "x = (x - np.mean(x))/np.std(x)\n",
    "#encode the categorical targets\n",
    "targets = {\"flower type\": {\"Iris-setosa\":0,\"Iris-versicolor\":1,\"Iris-virginica\":2}}\n",
    "y = y.replace(targets)\n",
    "#create a train and test set that are concatenated\n",
    "new_df = pd.concat([x,y],axis=1)\n",
    "mask = np.random.rand(len(new_df)) < 0.8\n",
    "train = new_df[mask]\n",
    "test = new_df[~mask]\n",
    "\n",
    "KNN_iris_pred = KNN(np.array(train),np.array(test),num_neighbors=3)\n",
    "KNN_y_test = test.drop(columns=['sepal length (cm)','sepal width (cm)',\n",
    "                                         'petal length (cm)','petal width (cm)'])\n",
    "\n",
    "iris_acc.append(accuracy_score(KNN_y_test,KNN_iris_pred))\n",
    "iris_pre.append(precision_score(KNN_y_test,KNN_iris_pred,average='weighted'))\n",
    "iris_rec.append(recall_score(KNN_y_test,KNN_iris_pred,average='weighted'))\n",
    "iris_fbeta.append(fbeta_score(KNN_y_test,KNN_iris_pred,beta = 0.3,average='weighted'))\n",
    "\n",
    "KNN_report = classification_report(KNN_y_test,KNN_iris_pred)\n",
    "print(KNN_report)"
   ]
  },
  {
   "cell_type": "markdown",
   "metadata": {},
   "source": [
    "### SVM on Iris"
   ]
  },
  {
   "cell_type": "code",
   "execution_count": 8,
   "metadata": {},
   "outputs": [
    {
     "name": "stdout",
     "output_type": "stream",
     "text": [
      "              precision    recall  f1-score   support\n",
      "\n",
      "           0       1.00      1.00      1.00         8\n",
      "           1       1.00      1.00      1.00        13\n",
      "           2       1.00      1.00      1.00         9\n",
      "\n",
      "    accuracy                           1.00        30\n",
      "   macro avg       1.00      1.00      1.00        30\n",
      "weighted avg       1.00      1.00      1.00        30\n",
      "\n"
     ]
    }
   ],
   "source": [
    "from sklearn.svm import SVC\n",
    "SVM = SVC(kernel = 'rbf',shrinking=True)\n",
    "SVM.fit(X_train,y_train)\n",
    "SVM_iris_pred = SVM.predict(X_test)\n",
    "iris_acc.append(accuracy_score(y_test,SVM_iris_pred))\n",
    "iris_pre.append(precision_score(y_test,SVM_iris_pred,average='weighted'))\n",
    "iris_rec.append(recall_score(y_test,SVM_iris_pred,average='weighted'))\n",
    "iris_fbeta.append(fbeta_score(y_test,SVM_iris_pred,beta = 0.3,average='weighted'))\n",
    "SVM_report = classification_report(y_test,SVM_iris_pred)\n",
    "print(SVM_report)"
   ]
  },
  {
   "cell_type": "markdown",
   "metadata": {},
   "source": [
    "### AdaBoost on Iris"
   ]
  },
  {
   "cell_type": "code",
   "execution_count": 9,
   "metadata": {},
   "outputs": [
    {
     "name": "stdout",
     "output_type": "stream",
     "text": [
      "              precision    recall  f1-score   support\n",
      "\n",
      "           0       1.00      1.00      1.00         8\n",
      "           1       0.93      1.00      0.96        13\n",
      "           2       1.00      0.89      0.94         9\n",
      "\n",
      "    accuracy                           0.97        30\n",
      "   macro avg       0.98      0.96      0.97        30\n",
      "weighted avg       0.97      0.97      0.97        30\n",
      "\n"
     ]
    }
   ],
   "source": [
    "from sklearn.ensemble import AdaBoostClassifier\n",
    "Adaboost = AdaBoostClassifier(n_estimators=250)\n",
    "Adaboost.fit(X_train,y_train)\n",
    "Adaboost_iris_pred = Adaboost.predict(X_test)\n",
    "iris_acc.append(accuracy_score(y_test,Adaboost_iris_pred))\n",
    "iris_pre.append(precision_score(y_test,Adaboost_iris_pred,average='weighted'))\n",
    "iris_rec.append(recall_score(y_test,Adaboost_iris_pred,average='weighted'))\n",
    "iris_fbeta.append(fbeta_score(y_test,Adaboost_iris_pred,beta = 0.3,average='weighted'))\n",
    "Adaboost_report = classification_report(y_test,Adaboost_iris_pred)\n",
    "print(Adaboost_report)"
   ]
  },
  {
   "cell_type": "markdown",
   "metadata": {},
   "source": [
    "### Linear Discriminant Analysis on Iris"
   ]
  },
  {
   "cell_type": "code",
   "execution_count": 10,
   "metadata": {},
   "outputs": [
    {
     "name": "stdout",
     "output_type": "stream",
     "text": [
      "              precision    recall  f1-score   support\n",
      "\n",
      "           0       1.00      1.00      1.00         8\n",
      "           1       1.00      1.00      1.00        13\n",
      "           2       1.00      1.00      1.00         9\n",
      "\n",
      "    accuracy                           1.00        30\n",
      "   macro avg       1.00      1.00      1.00        30\n",
      "weighted avg       1.00      1.00      1.00        30\n",
      "\n"
     ]
    }
   ],
   "source": [
    "from sklearn.discriminant_analysis import LinearDiscriminantAnalysis\n",
    "lda = LinearDiscriminantAnalysis(solver='svd',store_covariance = True)\n",
    "lda.fit(X_train,y_train)\n",
    "lda_iris_pred = lda.predict(X_test)\n",
    "iris_acc.append(accuracy_score(y_test,lda_iris_pred))\n",
    "iris_pre.append(precision_score(y_test,lda_iris_pred,average='weighted'))\n",
    "iris_rec.append(recall_score(y_test,lda_iris_pred,average='weighted'))\n",
    "iris_fbeta.append(fbeta_score(y_test,lda_iris_pred,beta = 0.3,average='weighted'))\n",
    "lda_report = classification_report(y_test,lda_iris_pred)\n",
    "print(lda_report)"
   ]
  },
  {
   "cell_type": "markdown",
   "metadata": {},
   "source": [
    "### Results Comparison on the iris dataset"
   ]
  },
  {
   "cell_type": "code",
   "execution_count": 11,
   "metadata": {},
   "outputs": [
    {
     "data": {
      "image/png": "[encoded data removed]",
      "text/plain": [
       "<Figure size 432x288 with 1 Axes>"
      ]
     },
     "metadata": {},
     "output_type": "display_data"
    },
    {
     "data": {
      "text/plain": [
       "[1.0, 0.9082167832167831, 1.0, 0.9690476190476189, 1.0]"
      ]
     },
     "execution_count": 11,
     "metadata": {},
     "output_type": "execute_result"
    }
   ],
   "source": [
    "import matplotlib.pyplot as plt\n",
    "%matplotlib inline\n",
    "plt.style.use('ggplot')\n",
    "\n",
    "ind = np.arange(5) \n",
    "width = 0.15       \n",
    "plt.bar(ind, iris_acc, width, label='Accuracy')\n",
    "\n",
    "plt.bar(ind + width, iris_pre, width,\n",
    "    label='Precision (weighted)')\n",
    "\n",
    "plt.bar(ind + width*2, iris_rec, width,\n",
    "    label='Recall (weighted)')\n",
    "\n",
    "plt.bar(ind + width*3, iris_fbeta, width,\n",
    "    label='Fbeta, beta = 0.3 (weighted)')\n",
    "\n",
    "plt.ylabel('Scores')\n",
    "plt.title('Algorithms Scores on iris dataset')\n",
    "plt.ylim(0.8, 1)\n",
    "plt.xticks(ind + width / 4, x_axis)\n",
    "plt.legend(loc='best',prop={'size': 7})\n",
    "plt.show()\n",
    "iris_pre"
   ]
  },
  {
   "cell_type": "markdown",
   "metadata": {},
   "source": [
    "## Wine Dataset"
   ]
  },
  {
   "cell_type": "code",
   "execution_count": 12,
   "metadata": {},
   "outputs": [
    {
     "name": "stdout",
     "output_type": "stream",
     "text": [
      "Training set has 142 samples.\n",
      "Testing set has 36 samples.\n"
     ]
    }
   ],
   "source": [
    "wine_df = pd.read_csv('wine.csv',header = None)\n",
    "\n",
    "data_cols = np.arange(1,14)\n",
    "x = wine_df.drop(wine_df.columns[0],axis=1)\n",
    "y = wine_df.drop(wine_df.columns[data_cols],axis=1)\n",
    "\n",
    "#standardize the features\n",
    "x = (x - np.mean(x))/np.std(x)\n",
    "#encode the categorical targets\n",
    "y = np.array(y)\n",
    "#remove the extra dimesion\n",
    "y = np.squeeze(y)\n",
    "y = y-1\n",
    "\n",
    "# Split the 'features' and 'income' data into training and testing sets\n",
    "X_train, X_test, y_train, y_test = train_test_split(x, \n",
    "                                                    y, \n",
    "                                                    test_size = 0.20)\n",
    "# Show the results of the split\n",
    "print(\"Training set has {} samples.\".format(X_train.shape[0]))\n",
    "print(\"Testing set has {} samples.\".format(X_test.shape[0]))"
   ]
  },
  {
   "cell_type": "code",
   "execution_count": 13,
   "metadata": {},
   "outputs": [],
   "source": [
    "wine_acc = []\n",
    "wine_pre = []\n",
    "wine_rec = []\n",
    "wine_fbeta = []"
   ]
  },
  {
   "cell_type": "markdown",
   "metadata": {},
   "source": [
    "### NB on Wine"
   ]
  },
  {
   "cell_type": "code",
   "execution_count": 14,
   "metadata": {},
   "outputs": [
    {
     "name": "stdout",
     "output_type": "stream",
     "text": [
      "              precision    recall  f1-score   support\n",
      "\n",
      "           0       1.00      1.00      1.00        12\n",
      "           1       1.00      1.00      1.00        10\n",
      "           2       1.00      1.00      1.00        14\n",
      "\n",
      "    accuracy                           1.00        36\n",
      "   macro avg       1.00      1.00      1.00        36\n",
      "weighted avg       1.00      1.00      1.00        36\n",
      "\n"
     ]
    }
   ],
   "source": [
    "NB_wine_pred = NaiveBayes(X_train,y_train,X_test)\n",
    "wine_acc.append(accuracy_score(y_test,NB_wine_pred))\n",
    "wine_pre.append(precision_score(y_test,NB_wine_pred,average='weighted'))\n",
    "wine_rec.append(recall_score(y_test,NB_wine_pred,average='weighted'))\n",
    "wine_fbeta.append(fbeta_score(y_test,NB_wine_pred,beta = 0.3,average='weighted'))\n",
    "NB_report = classification_report(y_test,NB_wine_pred)\n",
    "print(NB_report)"
   ]
  },
  {
   "cell_type": "markdown",
   "metadata": {},
   "source": [
    "### KNN on Wine"
   ]
  },
  {
   "cell_type": "code",
   "execution_count": 15,
   "metadata": {},
   "outputs": [
    {
     "name": "stdout",
     "output_type": "stream",
     "text": [
      "              precision    recall  f1-score   support\n",
      "\n",
      "           0       0.89      1.00      0.94         8\n",
      "           1       1.00      0.60      0.75         5\n",
      "           2       0.83      1.00      0.91         5\n",
      "\n",
      "    accuracy                           0.89        18\n",
      "   macro avg       0.91      0.87      0.87        18\n",
      "weighted avg       0.90      0.89      0.88        18\n",
      "\n"
     ]
    }
   ],
   "source": [
    "wine_df = pd.read_csv('wine.csv',header = None)\n",
    "\n",
    "data_cols = np.arange(1,14)\n",
    "x = wine_df.drop(wine_df.columns[0],axis=1)\n",
    "y = wine_df.drop(wine_df.columns[data_cols],axis=1)\n",
    "\n",
    "#standardize the features\n",
    "x = (x - np.mean(x))/np.std(x)\n",
    "y = y - 1\n",
    "#create a train and test set that are concatenated\n",
    "new_df = pd.concat([x,y],axis=1)\n",
    "mask = np.random.rand(len(new_df)) < 0.8\n",
    "train = new_df[mask]\n",
    "test = new_df[~mask]\n",
    "\n",
    "KNN_wine_pred = KNN(np.array(train),np.array(test),num_neighbors=3)\n",
    "KNN_y_test = test.drop(wine_df.columns[data_cols],axis=1)\n",
    "\n",
    "wine_acc.append(accuracy_score(KNN_y_test,KNN_wine_pred))\n",
    "wine_pre.append(precision_score(KNN_y_test,KNN_wine_pred,average='weighted'))\n",
    "wine_rec.append(recall_score(KNN_y_test,KNN_wine_pred,average='weighted'))\n",
    "wine_fbeta.append(fbeta_score(KNN_y_test,KNN_wine_pred,beta = 0.3,average='weighted'))\n",
    "\n",
    "KNN_report = classification_report(KNN_y_test,KNN_wine_pred)\n",
    "print(KNN_report)"
   ]
  },
  {
   "cell_type": "markdown",
   "metadata": {},
   "source": [
    "### SVM on Wine"
   ]
  },
  {
   "cell_type": "code",
   "execution_count": 16,
   "metadata": {},
   "outputs": [
    {
     "name": "stdout",
     "output_type": "stream",
     "text": [
      "              precision    recall  f1-score   support\n",
      "\n",
      "           0       1.00      1.00      1.00        12\n",
      "           1       0.91      1.00      0.95        10\n",
      "           2       1.00      0.93      0.96        14\n",
      "\n",
      "    accuracy                           0.97        36\n",
      "   macro avg       0.97      0.98      0.97        36\n",
      "weighted avg       0.97      0.97      0.97        36\n",
      "\n"
     ]
    }
   ],
   "source": [
    "SVM = SVC(kernel = 'rbf',shrinking=True)\n",
    "SVM.fit(X_train,y_train)\n",
    "SVM_wine_pred = SVM.predict(X_test)\n",
    "wine_acc.append(accuracy_score(y_test,SVM_wine_pred))\n",
    "wine_pre.append(precision_score(y_test,SVM_wine_pred,average='weighted'))\n",
    "wine_rec.append(recall_score(y_test,SVM_wine_pred,average='weighted'))\n",
    "wine_fbeta.append(fbeta_score(y_test,SVM_wine_pred,beta = 0.3,average='weighted'))\n",
    "SVM_report = classification_report(y_test,SVM_wine_pred)\n",
    "print(SVM_report)"
   ]
  },
  {
   "cell_type": "markdown",
   "metadata": {},
   "source": [
    "### AdaBoost on Wine"
   ]
  },
  {
   "cell_type": "code",
   "execution_count": 17,
   "metadata": {},
   "outputs": [
    {
     "name": "stdout",
     "output_type": "stream",
     "text": [
      "              precision    recall  f1-score   support\n",
      "\n",
      "           0       0.92      1.00      0.96        12\n",
      "           1       0.69      0.90      0.78        10\n",
      "           2       1.00      0.71      0.83        14\n",
      "\n",
      "    accuracy                           0.86        36\n",
      "   macro avg       0.87      0.87      0.86        36\n",
      "weighted avg       0.89      0.86      0.86        36\n",
      "\n"
     ]
    }
   ],
   "source": [
    "Adaboost = AdaBoostClassifier(n_estimators=250)\n",
    "Adaboost.fit(X_train,y_train)\n",
    "Adaboost_wine_pred = Adaboost.predict(X_test)\n",
    "wine_acc.append(accuracy_score(y_test,Adaboost_wine_pred))\n",
    "wine_pre.append(precision_score(y_test,Adaboost_wine_pred,average='weighted'))\n",
    "wine_rec.append(recall_score(y_test,Adaboost_wine_pred,average='weighted'))\n",
    "wine_fbeta.append(fbeta_score(y_test,Adaboost_wine_pred,beta = 0.3,average='weighted'))\n",
    "Adaboost_report = classification_report(y_test,Adaboost_wine_pred)\n",
    "print(Adaboost_report)"
   ]
  },
  {
   "cell_type": "markdown",
   "metadata": {},
   "source": [
    "### Linear Discriminant Analysis on Wine"
   ]
  },
  {
   "cell_type": "code",
   "execution_count": 18,
   "metadata": {},
   "outputs": [
    {
     "name": "stdout",
     "output_type": "stream",
     "text": [
      "              precision    recall  f1-score   support\n",
      "\n",
      "           0       1.00      1.00      1.00        12\n",
      "           1       0.91      1.00      0.95        10\n",
      "           2       1.00      0.93      0.96        14\n",
      "\n",
      "    accuracy                           0.97        36\n",
      "   macro avg       0.97      0.98      0.97        36\n",
      "weighted avg       0.97      0.97      0.97        36\n",
      "\n"
     ]
    }
   ],
   "source": [
    "lda = LinearDiscriminantAnalysis(solver='svd',store_covariance = True)\n",
    "lda.fit(X_train,y_train)\n",
    "lda_wine_pred = lda.predict(X_test)\n",
    "wine_acc.append(accuracy_score(y_test,lda_wine_pred))\n",
    "wine_pre.append(precision_score(y_test,lda_wine_pred,average='weighted'))\n",
    "wine_rec.append(recall_score(y_test,lda_wine_pred,average='weighted'))\n",
    "wine_fbeta.append(fbeta_score(y_test,lda_wine_pred,beta = 0.3,average='weighted'))\n",
    "lda_report = classification_report(y_test,lda_wine_pred)\n",
    "print(lda_report)"
   ]
  },
  {
   "cell_type": "markdown",
   "metadata": {},
   "source": [
    "### Results Comparison on the wine dataset\n"
   ]
  },
  {
   "cell_type": "code",
   "execution_count": 19,
   "metadata": {},
   "outputs": [
    {
     "data": {
      "image/png": "[encoded data removed]",
      "text/plain": [
       "<Figure size 432x288 with 1 Axes>"
      ]
     },
     "metadata": {},
     "output_type": "display_data"
    }
   ],
   "source": [
    "plt.bar(ind, wine_acc, width, label='Accuracy')\n",
    "\n",
    "plt.bar(ind + width, wine_pre, width,\n",
    "    label='Precision (weighted)')\n",
    "\n",
    "plt.bar(ind + width*2, wine_rec, width,\n",
    "    label='Recall (weighted)')\n",
    "\n",
    "plt.bar(ind + width*3, wine_fbeta, width,\n",
    "    label='Fbeta, beta = 0.3 (weighted)')\n",
    "\n",
    "plt.ylabel('Scores')\n",
    "plt.title('Algorithms Scores on wine dataset')\n",
    "plt.ylim(0.8, 1)\n",
    "plt.xticks(ind + width / 4, x_axis)\n",
    "plt.legend(loc='best',prop={'size': 7})\n",
    "plt.show()"
   ]
  },
  {
   "cell_type": "markdown",
   "metadata": {},
   "source": [
    "## Diabetes Dataset"
   ]
  },
  {
   "cell_type": "code",
   "execution_count": 20,
   "metadata": {},
   "outputs": [
    {
     "name": "stdout",
     "output_type": "stream",
     "text": [
      "Training set has 614 samples.\n",
      "Testing set has 154 samples.\n"
     ]
    }
   ],
   "source": [
    "diabetes_df = pd.read_csv('diabetes_data.csv',header=None)\n",
    "\n",
    "data_cols = np.arange(0,8)\n",
    "x = diabetes_df.drop(diabetes_df.columns[8],axis=1)\n",
    "y = diabetes_df.drop(diabetes_df.columns[data_cols],axis=1)\n",
    "\n",
    "#standardize the features\n",
    "x = (x - np.mean(x))/np.std(x)\n",
    "#encode the categorical targets\n",
    "y = np.array(y)\n",
    "#remove the extra dimesion\n",
    "y = np.squeeze(y)\n",
    "\n",
    "# Split the 'features' and 'income' data into training and testing sets\n",
    "X_train, X_test, y_train, y_test = train_test_split(x, \n",
    "                                                    y, \n",
    "                                                    test_size = 0.20)\n",
    "# Show the results of the split\n",
    "print(\"Training set has {} samples.\".format(X_train.shape[0]))\n",
    "print(\"Testing set has {} samples.\".format(X_test.shape[0]))"
   ]
  },
  {
   "cell_type": "code",
   "execution_count": 21,
   "metadata": {},
   "outputs": [],
   "source": [
    "diabetes_acc = []\n",
    "diabetes_pre = []\n",
    "diabetes_rec = []\n",
    "diabetes_fbeta = []"
   ]
  },
  {
   "cell_type": "markdown",
   "metadata": {},
   "source": [
    "### NB on diabetes"
   ]
  },
  {
   "cell_type": "code",
   "execution_count": 22,
   "metadata": {},
   "outputs": [
    {
     "name": "stdout",
     "output_type": "stream",
     "text": [
      "              precision    recall  f1-score   support\n",
      "\n",
      "           0       0.87      0.80      0.83       106\n",
      "           1       0.62      0.73      0.67        48\n",
      "\n",
      "    accuracy                           0.78       154\n",
      "   macro avg       0.75      0.77      0.75       154\n",
      "weighted avg       0.79      0.78      0.78       154\n",
      "\n"
     ]
    }
   ],
   "source": [
    "NB_diabetes_pred = NaiveBayes(X_train,y_train,X_test)\n",
    "diabetes_acc.append(accuracy_score(y_test,NB_diabetes_pred))\n",
    "diabetes_pre.append(precision_score(y_test,NB_diabetes_pred,average='weighted'))\n",
    "diabetes_rec.append(recall_score(y_test,NB_diabetes_pred,average='weighted'))\n",
    "diabetes_fbeta.append(fbeta_score(y_test,NB_diabetes_pred,beta = 0.3,average='weighted'))\n",
    "NB_report = classification_report(y_test,NB_diabetes_pred)\n",
    "print(NB_report)"
   ]
  },
  {
   "cell_type": "markdown",
   "metadata": {},
   "source": [
    "### KNN on diabetes"
   ]
  },
  {
   "cell_type": "code",
   "execution_count": 23,
   "metadata": {},
   "outputs": [
    {
     "name": "stdout",
     "output_type": "stream",
     "text": [
      "              precision    recall  f1-score   support\n",
      "\n",
      "           0       0.81      0.81      0.81       113\n",
      "           1       0.57      0.57      0.57        51\n",
      "\n",
      "    accuracy                           0.73       164\n",
      "   macro avg       0.69      0.69      0.69       164\n",
      "weighted avg       0.73      0.73      0.73       164\n",
      "\n"
     ]
    }
   ],
   "source": [
    "diabetes_df = pd.read_csv('diabetes_data.csv',header = None)\n",
    "\n",
    "data_cols = np.arange(0,8)\n",
    "x = diabetes_df.drop(diabetes_df.columns[8],axis=1)\n",
    "y = diabetes_df.drop(diabetes_df.columns[data_cols],axis=1)\n",
    "\n",
    "#standardize the features\n",
    "x = (x - np.mean(x))/np.std(x)\n",
    "#create a train and test set that are concatenated\n",
    "new_df = pd.concat([x,y],axis=1)\n",
    "mask = np.random.rand(len(new_df)) < 0.8\n",
    "train = new_df[mask]\n",
    "test = new_df[~mask]\n",
    "\n",
    "KNN_diabetes_pred = KNN(np.array(train),np.array(test),num_neighbors=3)\n",
    "KNN_y_test = test.drop(diabetes_df.columns[data_cols],axis=1)\n",
    "diabetes_acc.append(accuracy_score(KNN_y_test,KNN_diabetes_pred))\n",
    "diabetes_pre.append(precision_score(KNN_y_test,KNN_diabetes_pred,average='weighted'))\n",
    "diabetes_rec.append(recall_score(KNN_y_test,KNN_diabetes_pred,average='weighted'))\n",
    "diabetes_fbeta.append(fbeta_score(KNN_y_test,KNN_diabetes_pred,beta = 0.3,\n",
    "                                  average='weighted'))\n",
    "KNN_report = classification_report(KNN_y_test,KNN_diabetes_pred)\n",
    "print(KNN_report)"
   ]
  },
  {
   "cell_type": "markdown",
   "metadata": {},
   "source": [
    "### SVM on Wine"
   ]
  },
  {
   "cell_type": "code",
   "execution_count": 24,
   "metadata": {},
   "outputs": [
    {
     "name": "stdout",
     "output_type": "stream",
     "text": [
      "              precision    recall  f1-score   support\n",
      "\n",
      "           0       0.92      0.86      0.89       106\n",
      "           1       0.73      0.83      0.78        48\n",
      "\n",
      "    accuracy                           0.85       154\n",
      "   macro avg       0.82      0.85      0.83       154\n",
      "weighted avg       0.86      0.85      0.85       154\n",
      "\n"
     ]
    }
   ],
   "source": [
    "SVM = SVC(kernel = 'rbf',shrinking=True)\n",
    "SVM.fit(X_train,y_train)\n",
    "SVM_diabetes_pred = SVM.predict(X_test)\n",
    "diabetes_acc.append(accuracy_score(y_test,SVM_diabetes_pred))\n",
    "diabetes_pre.append(precision_score(y_test,SVM_diabetes_pred,average='weighted'))\n",
    "diabetes_rec.append(recall_score(y_test,SVM_diabetes_pred,average='weighted'))\n",
    "diabetes_fbeta.append(fbeta_score(y_test,SVM_diabetes_pred,beta = 0.3,average='weighted'))\n",
    "SVM_report = classification_report(y_test,SVM_diabetes_pred)\n",
    "print(SVM_report)"
   ]
  },
  {
   "cell_type": "markdown",
   "metadata": {},
   "source": [
    "### AdaBoost on diabetes"
   ]
  },
  {
   "cell_type": "code",
   "execution_count": 25,
   "metadata": {},
   "outputs": [
    {
     "name": "stdout",
     "output_type": "stream",
     "text": [
      "              precision    recall  f1-score   support\n",
      "\n",
      "           0       0.90      0.76      0.83       106\n",
      "           1       0.61      0.81      0.70        48\n",
      "\n",
      "    accuracy                           0.78       154\n",
      "   macro avg       0.75      0.79      0.76       154\n",
      "weighted avg       0.81      0.78      0.79       154\n",
      "\n"
     ]
    }
   ],
   "source": [
    "Adaboost = AdaBoostClassifier(n_estimators=250)\n",
    "Adaboost.fit(X_train,y_train)\n",
    "Adaboost_diabetes_pred = Adaboost.predict(X_test)\n",
    "diabetes_acc.append(accuracy_score(y_test,Adaboost_diabetes_pred))\n",
    "diabetes_pre.append(precision_score(y_test,Adaboost_diabetes_pred,average='weighted'))\n",
    "diabetes_rec.append(recall_score(y_test,Adaboost_diabetes_pred,average='weighted'))\n",
    "diabetes_fbeta.append(fbeta_score(y_test,Adaboost_diabetes_pred,beta = 0.3,average='weighted'))\n",
    "Adaboost_report = classification_report(y_test,Adaboost_diabetes_pred)\n",
    "print(Adaboost_report)"
   ]
  },
  {
   "cell_type": "markdown",
   "metadata": {},
   "source": [
    "### Linear Discriminant Analysis on diabetes"
   ]
  },
  {
   "cell_type": "code",
   "execution_count": 26,
   "metadata": {},
   "outputs": [
    {
     "name": "stdout",
     "output_type": "stream",
     "text": [
      "              precision    recall  f1-score   support\n",
      "\n",
      "           0       0.89      0.85      0.87       106\n",
      "           1       0.70      0.77      0.73        48\n",
      "\n",
      "    accuracy                           0.82       154\n",
      "   macro avg       0.79      0.81      0.80       154\n",
      "weighted avg       0.83      0.82      0.83       154\n",
      "\n"
     ]
    }
   ],
   "source": [
    "lda = LinearDiscriminantAnalysis(solver='svd',store_covariance = True)\n",
    "lda.fit(X_train,y_train)\n",
    "lda_diabetes_pred = lda.predict(X_test)\n",
    "diabetes_acc.append(accuracy_score(y_test,lda_diabetes_pred))\n",
    "diabetes_pre.append(precision_score(y_test,lda_diabetes_pred,average='weighted'))\n",
    "diabetes_rec.append(recall_score(y_test,lda_diabetes_pred,average='weighted'))\n",
    "diabetes_fbeta.append(fbeta_score(y_test,lda_diabetes_pred,beta = 0.3,average='weighted'))\n",
    "lda_report = classification_report(y_test,lda_diabetes_pred)\n",
    "print(lda_report)"
   ]
  },
  {
   "cell_type": "markdown",
   "metadata": {},
   "source": [
    "### Results Comparison on the diabetes dataset"
   ]
  },
  {
   "cell_type": "code",
   "execution_count": 27,
   "metadata": {},
   "outputs": [
    {
     "data": {
      "image/png": "[encoded data removed]",
      "text/plain": [
       "<Figure size 432x288 with 1 Axes>"
      ]
     },
     "metadata": {},
     "output_type": "display_data"
    }
   ],
   "source": [
    "plt.bar(ind, diabetes_acc, width, label='Accuracy')\n",
    "\n",
    "plt.bar(ind + width, diabetes_pre, width,\n",
    "    label='Precision (weighted)')\n",
    "\n",
    "plt.bar(ind + width*2, diabetes_rec, width,\n",
    "    label='Recall (weighted)')\n",
    "\n",
    "plt.bar(ind + width*3, diabetes_fbeta, width,\n",
    "    label='Fbeta, beta = 0.3 (weighted)')\n",
    "\n",
    "plt.ylabel('Scores')\n",
    "plt.title('Algorithms Scores on diabetes dataset')\n",
    "plt.ylim(0.5, 1)\n",
    "plt.xticks(ind + width / 4, x_axis)\n",
    "plt.legend(loc='best',prop={'size': 7})\n",
    "plt.show()"
   ]
  },
  {
   "cell_type": "code",
   "execution_count": null,
   "metadata": {},
   "outputs": [],
   "source": []
  }
 ],
 "metadata": {
  "kernelspec": {
   "display_name": "Python 3",
   "language": "python",
   "name": "python3"
  },
  "language_info": {
   "codemirror_mode": {
    "name": "ipython",
    "version": 3
   },
   "file_extension": ".py",
   "mimetype": "text/x-python",
   "name": "python",
   "nbconvert_exporter": "python",
   "pygments_lexer": "ipython3",
   "version": "3.7.6"
  }
 },
 "nbformat": 4,
 "nbformat_minor": 4
}
